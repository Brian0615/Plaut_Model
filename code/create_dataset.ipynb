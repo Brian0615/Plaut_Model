{
 "cells": [
  {
   "cell_type": "markdown",
   "metadata": {},
   "source": [
    "<div class=\"alert alert-block alert-success\">\n",
    "\n",
    "# Plaut Model > create_dataset\n",
    "\n",
    "### Purpose\n",
    "To merge the PMSPdata.txt file and word frequencies into one csv file.\n",
    "\n",
    "### Date Created\n",
    "November 21, 2019\n",
    "***\n",
    "### Revisions\n",
    "Dec 30, 2019 - Update filepaths in code based on new file organization \n",
    "\n",
    "Nov 24, 2019 - Update words without frequency in word_freq.csv to have frequency of 1.\n",
    "\n",
    "Nov 21, 2019 - Create file to merge frequency with words\n",
    "\n",
    "</div>"
   ]
  },
  {
   "cell_type": "markdown",
   "metadata": {},
   "source": [
    "## Import Required Libraries"
   ]
  },
  {
   "cell_type": "code",
   "execution_count": 1,
   "metadata": {},
   "outputs": [],
   "source": [
    "import pandas as pd\n",
    "import numpy as np"
   ]
  },
  {
   "cell_type": "code",
   "execution_count": 2,
   "metadata": {},
   "outputs": [],
   "source": [
    "def remove_asterisk(x):\n",
    "    if type(x) == float:\n",
    "        return \"null\" # the word null is saved as nan in dataframe\n",
    "    elif '*' in x:\n",
    "        return x[1:]\n",
    "    else:\n",
    "        return x"
   ]
  },
  {
   "cell_type": "markdown",
   "metadata": {},
   "source": [
    "## Import and Visualize Data"
   ]
  },
  {
   "cell_type": "code",
   "execution_count": 4,
   "metadata": {},
   "outputs": [],
   "source": [
    "df = pd.read_csv(\"../dataset/PMSPdata.txt\", sep=\"\\t\") # load original PMSP dataset\n",
    "df = df[[\"orth\", \"phon\", \"type\"]]\n",
    "df[\"orth\"] = df[\"orth\"].apply(remove_asterisk) # remove the asterisk in ambiguous words (e.g. *bass -> bass)\n",
    "freq = pd.read_csv(\"../dataset/word_freq.csv\") # load KFFRQ frequencies"
   ]
  },
  {
   "cell_type": "markdown",
   "metadata": {},
   "source": [
    "## Merge and Save to csv File"
   ]
  },
  {
   "cell_type": "code",
   "execution_count": 5,
   "metadata": {},
   "outputs": [],
   "source": [
    "# merge frequencies into the dataframe\n",
    "df = df.merge(freq, how='left', on='orth')"
   ]
  },
  {
   "cell_type": "code",
   "execution_count": 6,
   "metadata": {},
   "outputs": [],
   "source": [
    "# if frequency is not found in KFFRQ file, insert freq of 1\n",
    "df[\"freq\"] = df[\"freq\"].fillna(1.0) \n",
    "# calculate log_freq accordingly\n",
    "df[\"log_freq\"] = np.log(df[\"freq\"]+2)"
   ]
  },
  {
   "cell_type": "code",
   "execution_count": 7,
   "metadata": {},
   "outputs": [],
   "source": [
    "df.to_csv(\"../dataset/plaut_dataset.csv\", index=False)"
   ]
  },
  {
   "cell_type": "markdown",
   "metadata": {},
   "source": [
    "## Obtain List of Words w/o Frequency"
   ]
  },
  {
   "cell_type": "code",
   "execution_count": 8,
   "metadata": {},
   "outputs": [
    {
     "name": "stdout",
     "output_type": "stream",
     "text": [
      "List of Words w/o frequency: ['ade', 'ail', 'alps', 'angst', 'awn', 'bakes', 'balk', 'bane', 'barre', 'bas', 'bash', 'bask', 'baste', 'bate', 'beak', 'beek', 'beep', 'beet', 'bike', 'blanch', 'blare', 'bleach', 'bleep', 'bong', 'bop', 'braid', 'brat', 'brawn', 'brooch', 'cad', 'calve', 'chaste', 'cheep', 'chime', 'churn', 'clamp', 'clink', 'clone', 'clop', 'clots', 'cot', 'cowl', 'crab', 'crag', 'cram', 'crock', 'croon', 'cub', 'cue', 'cull', 'cyst', 'dart', 'days', 'daze', 'died', 'dike', 'dint', 'dork', 'dorm', 'dots', 'douse', 'drape', 'dreamt', 'drool', 'drugs', 'dub', 'duel', 'dunk', 'dwelt', 'fang', 'fen', 'fend', 'fiche', 'fink', 'fire', 'fixed', 'flack', 'flaunt', 'flays', 'floss', 'flour', 'foist', 'font', 'frappe', 'freed', 'frill', 'frump', 'fuck', 'gal', 'gape', 'gent', 'germs', 'glade', 'glitch', 'gloat', 'goes', 'gong', 'goon', 'grad', 'grays', 'grid', 'grime', 'gripe', 'grouch', 'grouse', 'grout', 'gunk', 'hag', 'halve', 'hasp', 'hex', 'hire', 'hoc', 'hoe', 'hops', 'hour', 'huh', 'ire', 'jape', 'jays', 'jeer', 'jell', 'jilt', 'jinx', 'jive', 'jock', 'jog', 'june', 'jut', 'jute', 'kilt', 'klan', 'laps', 'lays', 'leach', 'leek', 'leer', 'lied', 'lode', 'loupe', 'lox', 'lye', 'lynch', 'mace', 'maim', 'makes', 'mane', 'mar', 'max', 'mime', 'mitt', 'moat', 'moo', 'moose', 'mope', 'morn', 'mow', 'mush', 'muss', 'nape', 'naw', 'nicks', 'nix', 'node', 'nook', 'null', 'oat', 'ole', 'oops', 'ouch', 'pang', 'pant', 'pea', 'peat', 'peek', 'pelt', 'pew', 'phage', 'pleat', 'plough', 'plow', 'porn', 'posh', 'pried', 'puck', 'punt', 'pus', 'pyre', 'quail', 'qualms', 'quay', 'queue', 'quilt', 'quo', 'rant', 'rave', 'rays', 'raze', 'ream', 'ref', 'rile', 'rind', 'rolled', 'rook', 'rout', 'sauve', 'schnook', 'scold', 'scone', 'scour', 'scroll', 'seeds', 'serf', 'shard', 'shark', 'shill', 'ships', 'shoal', 'shroud', 'shuck', 'shush', 'sift', 'silt', 'sioux', 'skunk', 'slain', 'slay', 'slime', 'smock', 'snip', 'snob', 'snoot', 'snub', 'snuck', 'snuff', 'sob', 'soils', 'sooth', 'souse', 'sox', 'spank', 'spilt', 'splat', 'splint', 'spook', 'spool', 'sprain', 'sprint', 'squirm', 'stalk', 'stank', 'stilt', 'stork', 'stow', 'strewn', 'strobe', 'suede', 'sulk', 'swat', 'swatch', 'swoon', 'taps', 'teak', 'tech', 'terms', 'throes', 'thru', 'tied', 'tier', 'times', 'tire', 'toes', 'tog', 'tome', 'tot', 'troll', 'troup', 'tryst', 'tusk', 'tweet', 'twine', 'tyme', 'ump', 'vend', 'vie', 'vise', 'volt', 'vouch', 'vue', 'wad', 'wag', 'wane', 'ways', 'wean', 'welch', 'welt', 'whelp', 'whil', 'whorl', 'wren', 'yak', 'yam', 'yang', 'yaw', 'yeah', 'zen', 'zing', 'zit'] \n",
      "\n",
      "Number of Words w/o frequency: 308\n"
     ]
    }
   ],
   "source": [
    "words1 = list(df[\"orth\"])\n",
    "words2 = list(freq[\"orth\"])\n",
    "count = 0\n",
    "accum = []\n",
    "\n",
    "# save words without frequency into \"accum\", and count # of these words\n",
    "for i in words1:\n",
    "    if i not in words2:\n",
    "        accum.append(i)\n",
    "        count += 1\n",
    "\n",
    "# print results\n",
    "print(\"List of Words w/o frequency:\", accum, \"\\n\")\n",
    "print(\"Number of Words w/o frequency:\", count)"
   ]
  },
  {
   "cell_type": "code",
   "execution_count": null,
   "metadata": {},
   "outputs": [],
   "source": []
  }
 ],
 "metadata": {
  "kernelspec": {
   "display_name": "Python 3",
   "language": "python",
   "name": "python3"
  },
  "language_info": {
   "codemirror_mode": {
    "name": "ipython",
    "version": 3
   },
   "file_extension": ".py",
   "mimetype": "text/x-python",
   "name": "python",
   "nbconvert_exporter": "python",
   "pygments_lexer": "ipython3",
   "version": "3.7.3"
  }
 },
 "nbformat": 4,
 "nbformat_minor": 2
}
