{
 "cells": [
  {
   "cell_type": "markdown",
   "metadata": {},
   "source": [
    "<div class=\"alert alert-block alert-success\">\n",
    "\n",
    "# Plaut Model > plaut_model\n",
    "\n",
    "### Purpose\n",
    "Implement the Plaut Model\n",
    "\n",
    "### Date Created\n",
    "November 11, 2019\n",
    "***\n",
    "#### Revisions\n",
    " - Jan 01, 2020: Happy New Year! Minor bug fixes to folder creation in training\n",
    " - Dec 30, 2019: Update filepaths in code to match new file organization\n",
    " - Nov 28, 2019: Update training epochs to 500+100, add training for anchors\n",
    " - Nov 27, 2019: Move dataset class, helper functions to separate files, Add plotting for accuracy for plaut dataset, anchors and probes\n",
    " - Nov 25, 2019: Update get_accuracy function to correspond to sigmoid activated output, Lower print/plot frequency\n",
    " - Nov 24, 2019: Replace BCEWithLogitsLoss with BCELoss, and added sigmoid activation to model output\n",
    " - Nov 21, 2019: Include correct frequency, fixes to dataset structure\n",
    " - Nov 14, 2019: Updates to include frequency\n",
    " - Nov 11, 2019: Create file, implement initial Plaut model and train\n",
    "\n",
    "</div>"
   ]
  },
  {
   "cell_type": "markdown",
   "metadata": {},
   "source": [
    "### Import Required Libraries"
   ]
  },
  {
   "cell_type": "code",
   "execution_count": 9,
   "metadata": {},
   "outputs": [],
   "source": [
    "import pandas as pd\n",
    "import numpy as np\n",
    "import os\n",
    "import datetime\n",
    "from pathlib import Path\n",
    "\n",
    "import torch\n",
    "import torch.nn as nn\n",
    "import torch.optim as optim\n",
    "from torch.utils.data import Dataset, DataLoader\n",
    "import matplotlib.pyplot as plt\n",
    "from plaut_dataset import plaut_dataset\n",
    "from helpers import *\n",
    "from IPython.display import Audio, display"
   ]
  },
  {
   "cell_type": "markdown",
   "metadata": {},
   "source": [
    "### Import Data"
   ]
  },
  {
   "cell_type": "code",
   "execution_count": 2,
   "metadata": {},
   "outputs": [],
   "source": [
    "# import dataset from csv files\n",
    "# multiple csv files can be concatenated in format: [\"filename1\", True/False, \"filename2\", True/False, ...]\n",
    "# True/False indicates whether to override frequencies to log(2)\n",
    "\n",
    "plaut_ds = plaut_dataset([\"../dataset/plaut_dataset.csv\", False])\n",
    "anc_ds = plaut_dataset([\"../dataset/anchors.csv\", False])\n",
    "probe_ds = plaut_dataset([\"../dataset/probes.csv\", False])\n",
    "plaut_anc_ds = plaut_dataset(['../dataset/plaut_dataset.csv', True, '../dataset/anchors.csv', False])\n",
    "\n",
    "# initialize dataloader to feed data into model\n",
    "plaut_loader = DataLoader(plaut_ds, batch_size=len(plaut_ds), num_workers=0)\n",
    "anc_loader = DataLoader(anc_ds, batch_size=len(anc_ds), num_workers=0)\n",
    "probe_loader = DataLoader(probe_ds, batch_size=len(probe_ds), num_workers=0)\n",
    "plaut_anc_loader = DataLoader(plaut_anc_ds, batch_size=len(plaut_anc_ds), num_workers=0)"
   ]
  },
  {
   "cell_type": "markdown",
   "metadata": {},
   "source": [
    "### Network Architecture"
   ]
  },
  {
   "cell_type": "code",
   "execution_count": 3,
   "metadata": {},
   "outputs": [],
   "source": [
    "class plaut_net(nn.Module):\n",
    "    def __init__(self):\n",
    "        super(plaut_net, self).__init__()\n",
    "        self.layer1 = nn.Linear(105, 100)\n",
    "        self.layer2 = nn.Linear(100, 61)\n",
    "    \n",
    "    def forward(self, x):\n",
    "        x = torch.sigmoid(self.layer1(x))\n",
    "        return torch.sigmoid(self.layer2(x))"
   ]
  },
  {
   "cell_type": "markdown",
   "metadata": {},
   "source": [
    "### Training Function"
   ]
  },
  {
   "cell_type": "code",
   "execution_count": 4,
   "metadata": {},
   "outputs": [],
   "source": [
    "def train(model, plaut_loader, plaut_anc_loader, anc_loader, probe_loader, folder, lr=0.001):\n",
    "    # define loss function and optimizer\n",
    "    criterion = nn.BCELoss(reduction='none')\n",
    "    optimizer = optim.Adam(model.parameters(), lr=lr)\n",
    "    \n",
    "    # Initialize arrays to store epochs, train loss\n",
    "    epochs, losses = [], []\n",
    "    \n",
    "    # Select word types to calculate accuracy for\n",
    "    types = [\"HEC\", \"HRI\", \"HFE\", \"LEC\", \"LFRI\", \"LFEEXPT\"] # calculate accuracy of these types\n",
    "    anc_types = [\"ANC_REG\", \"ANC_EXC\", \"ANC_AMB\"]\n",
    "    probe_types = [\"PRO_REG\", \"PRO_EXC\", \"PRO_AMB\"]\n",
    "    \n",
    "    # Initialize arrays to store accuracy of plaut dataset, anchors, probes\n",
    "    acc = [[], [], [], []]\n",
    "    anc_acc = [[] for i in anc_types]\n",
    "    probe_acc = [[] for i in probe_types]\n",
    "    \n",
    "    for epoch in range(600):\n",
    "        if epoch < 500: # use only plaut dataset for first 500 epochs\n",
    "            data_loader = plaut_loader\n",
    "        else: # after, train with both plaut + anchors\n",
    "            data_loader = plaut_anc_loader\n",
    "        \n",
    "        avg_loss = 0 # initialize avg loss\n",
    "        for i, data in enumerate(data_loader): \n",
    "            # extract frequency, inputs, labels\n",
    "            freq = data[\"frequency\"].float().view(-1, 1) # reshape to [batch_size x 1] to match output size\n",
    "            inputs = data[\"graphemes\"].float()\n",
    "            labels = data[\"phonemes\"].float()\n",
    "            \n",
    "            #forward pass + backward pass + optimize\n",
    "            outputs = model(inputs)\n",
    "            loss = criterion(outputs, labels)\n",
    "            loss = (loss*freq).mean() # scale loss by frequency, then find mean\n",
    "            avg_loss += loss.item()\n",
    "            loss.backward()\n",
    "            optimizer.step()\n",
    "            optimizer.zero_grad()\n",
    "        \n",
    "        # calculate loss and save loss to array\n",
    "        losses.append(avg_loss)\n",
    "        epochs.append(epoch+1)\n",
    "        \n",
    "        # calculate accuracy over the different types for plaut dataset\n",
    "        temp_acc = get_accuracy(model, plaut_loader, types)\n",
    "        acc[0].append((temp_acc[0]+temp_acc[1])/2) # average of HFR consistent and inconsistent\n",
    "        acc[1].append(temp_acc[2]) # HFE\n",
    "        acc[2].append((temp_acc[3]+temp_acc[4])/2) # average of LFR consistent and inconsistent\n",
    "        acc[3].append(temp_acc[5]) # LFE\n",
    "        \n",
    "        # calculate accuracy over the different types for anchors\n",
    "        temp_acc = get_accuracy(model, anc_loader, anc_types, vowels_only=True)\n",
    "        for i in range(len(anc_types)):\n",
    "            anc_acc[i].append(temp_acc[i])\n",
    "            \n",
    "        # calculate accuracy over the different types for probes\n",
    "        temp_acc = get_accuracy(model, probe_loader, probe_types, vowels_only=True)\n",
    "        for i in range(len(probe_types)):\n",
    "            probe_acc[i].append(temp_acc[i])\n",
    "        \n",
    "        # print stats every 5 epochs\n",
    "        if epoch % 1 == 0:\n",
    "            print(\"[EPOCH %d] loss: %.6f\" % (epoch+1, avg_loss))\n",
    "        \n",
    "        # plot loss every 5 epochs\n",
    "        if epoch % 50 == 49:\n",
    "            make_plot(epochs, [losses], [\"Train Loss\"], \"Epoch\", \"Loss\", \"Training Loss\")\n",
    "            make_plot(epochs, acc, [\"HFR\", \"HFE\", \"LFR\", \"LFE\"], \"Epoch\", \"Accuracy\", \"Training Accuracy\")\n",
    "            make_plot(epochs, anc_acc, anc_types, \"Epoch\", \"Accuracy\", \"Anchor Accuracy\")\n",
    "            make_plot(epochs, probe_acc, probe_types, \"Epoch\", \"Accuracy\", \"Probe Accuracy\")\n",
    "            \n",
    "\n",
    "    # plot final loss curve and save\n",
    "    plt.figure()\n",
    "    plt.title(\"Training Curve\")\n",
    "    plt.xlabel(\"Epoch\")\n",
    "    plt.ylabel(\"Loss\")\n",
    "    plt.plot(losses, label=\"Training Loss\")\n",
    "    plt.savefig(\"../test/\"+folder+\"/lossplot_final.png\", dpi=150)\n",
    "    plt.close()"
   ]
  },
  {
   "cell_type": "markdown",
   "metadata": {},
   "source": [
    "### Training"
   ]
  },
  {
   "cell_type": "code",
   "execution_count": 18,
   "metadata": {},
   "outputs": [
    {
     "name": "stdout",
     "output_type": "stream",
     "text": [
      "/Users/BrianLam/UTSC Research/Plaut_Model/test/jan01_test01\n",
      "Test Results saved in : /Users/BrianLam/UTSC Research/Plaut_Model/test/jan01_test01\n"
     ]
    }
   ],
   "source": [
    "# create a new folder for every run\n",
    "path = Path(os.getcwd()).parent #get parent (Plaut_Model) directory filepath\n",
    "now = datetime.datetime.now()\n",
    "date = now.strftime(\"%b\").lower()+now.strftime(\"%d\")\n",
    "i = 1\n",
    "\n",
    "while True:\n",
    "    try:\n",
    "        rootdir = str(path)+\"/test/\"+date+\"_test\"+'{:02d}'.format(i)\n",
    "        print(rootdir)\n",
    "        os.mkdir(rootdir)\n",
    "        break\n",
    "    except:\n",
    "        i += 1\n",
    "\n",
    "\n",
    "print(\"Test Results saved in :\", rootdir)\n",
    "\n",
    "#torch.manual_seed(1) # initialize random seed\n",
    "#model = plaut_net() # initialize model\n",
    "#train(model, plaut_loader, plaut_anc_loader, anc_loader, probe_loader, rootdir, lr=0.1) # train!!!!"
   ]
  },
  {
   "cell_type": "code",
   "execution_count": 7,
   "metadata": {},
   "outputs": [
    {
     "data": {
      "image/png": "[encoded data removed]",
      "text/plain": [
       "<Figure size 432x288 with 1 Axes>"
      ]
     },
     "metadata": {
      "needs_background": "light"
     },
     "output_type": "display_data"
    }
   ],
   "source": [
    "# obtain list of categories in dataset, and add \"All\" for overall accuracy\n",
    "types = list(plaut_ds.df[\"type\"].unique())\n",
    "types.append(\"All\")\n",
    "    \n",
    "accuracy = get_accuracy(model, plaut_loader, types)\n",
    "\n",
    "\n",
    "# plot in bar graph\n",
    "plt.bar(types, accuracy)\n",
    "plt.xticks(rotation='vertical')\n",
    "plt.xlabel(\"Type\")\n",
    "plt.ylabel(\"Accuracy\")\n",
    "plt.title(\"Accuracy by Type\")\n",
    "plt.savefig(\"../test/\"+rootdir+\"/accuracy_chart_final.png\", dpi=150)\n",
    "plt.show()\n"
   ]
  },
  {
   "cell_type": "code",
   "execution_count": 8,
   "metadata": {},
   "outputs": [],
   "source": [
    "# function to get the accuracy of a particular category\n",
    "def get_accuracy2 (model, train_loader, cat='All'):\n",
    "    correct = 0\n",
    "    total = 0\n",
    "    for i, data in enumerate (train_loader): # get batch from dataloader\n",
    "        # extract inputs, labels, type from batch\n",
    "        inputs = data[\"graphemes\"].float()\n",
    "        labels = data[\"phonemes\"].float()\n",
    "        types = pd.DataFrame(data[\"type\"])\n",
    "        \n",
    "        outputs = model(inputs) # find prediction using model\n",
    "        outputs = outputs.round() # round output to 0 or 1\n",
    "        compare = torch.eq(outputs, labels).sum(dim=1) # compare with labels\n",
    "        \n",
    "        if cat == 'All':\n",
    "            correct += torch.eq(compare, 61).sum().item() # count as correct if all 61 elements match label\n",
    "            total += len(compare)\n",
    "        else:\n",
    "            types = types.apply(lambda x: x == cat) # check for desired type\n",
    "            compare = pd.DataFrame(compare)\n",
    "            correct += ((types == True) & (compare == 61)).sum()[0] # count as correct if desired type AND all 61 elements match total\n",
    "            total += (types==True).sum()[0] # count all of the desired type\n",
    "    \n",
    "    return correct/(total) # return accuracy"
   ]
  },
  {
   "cell_type": "code",
   "execution_count": 9,
   "metadata": {},
   "outputs": [],
   "source": [
    "def get_accuracy_vowels (model, train_loader, cat=['REG', 'EXC', 'AMB']):\n",
    "    correct = [0, 0, 0]\n",
    "    total = [0, 0, 0]\n",
    "    for i, data in enumerate (train_loader):\n",
    "        inputs = data[\"graphemes\"].float()\n",
    "        labels = data[\"phonemes\"].float()\n",
    "        labels = labels[:, len(phoneme_onset):len(phoneme_onset)+len(phoneme_vowel)]\n",
    "        \n",
    "        outputs = model(inputs)\n",
    "        outputs = outputs[:, len(phoneme_onset):len(phoneme_onset)+len(phoneme_vowel)]\n",
    "        outputs = torch.sigmoid(outputs).round()\n",
    "        compare = torch.eq(outputs, labels).sum(dim=1)\n",
    "        for i in range(len(cat)):\n",
    "            types = pd.DataFrame(data[\"type\"])\n",
    "            #print(types)\n",
    "            types = types.apply(lambda x: x == cat[i])\n",
    "            #print(types)\n",
    "            #break\n",
    "            compare = pd.DataFrame(compare)\n",
    "            correct[i] += ((types == True) & (compare == len(phoneme_vowel))).sum()[0]\n",
    "            total[i] += (types==True).sum()[0]\n",
    "    return correct, total"
   ]
  },
  {
   "cell_type": "code",
   "execution_count": 10,
   "metadata": {},
   "outputs": [],
   "source": [
    "a = torch.tensor([[1, 2, 3], [4, 5, 6]])"
   ]
  },
  {
   "cell_type": "code",
   "execution_count": 11,
   "metadata": {},
   "outputs": [
    {
     "data": {
      "text/plain": [
       "tensor([[2, 3],\n",
       "        [5, 6]])"
      ]
     },
     "execution_count": 11,
     "metadata": {},
     "output_type": "execute_result"
    }
   ],
   "source": [
    "a[:, 1:3]"
   ]
  },
  {
   "cell_type": "code",
   "execution_count": 12,
   "metadata": {},
   "outputs": [],
   "source": [
    "phoneme_onset = ['s', 'S', 'C', 'z', 'Z', 'j', 'f', 'v', 'T', 'D',\n",
    "                 'p', 'b', 't', 'd', 'k', 'g', 'm', 'n', 'h', 'l', 'r', 'w', 'y']\n",
    "phoneme_vowel = ['a', 'e', 'i', 'o', 'u', '@',\n",
    "                 '^', 'A', 'E', 'I', 'O', 'U', 'W', 'Y']\n",
    "phoneme_codas = ['r', 'l', 'm', 'n', 'N', 'b', 'g', 'd', 'ps', 'ks',\n",
    "                 'ts', 's', 'z', 'f', 'v', 'p', 'k', 't', 'S', 'Z', 'T', 'D', 'C', 'j']"
   ]
  },
  {
   "cell_type": "code",
   "execution_count": 13,
   "metadata": {},
   "outputs": [
    {
     "data": {
      "text/plain": [
       "23"
      ]
     },
     "execution_count": 13,
     "metadata": {},
     "output_type": "execute_result"
    }
   ],
   "source": [
    "len(phoneme_onset)"
   ]
  },
  {
   "cell_type": "code",
   "execution_count": 14,
   "metadata": {},
   "outputs": [
    {
     "data": {
      "text/plain": [
       "37"
      ]
     },
     "execution_count": 14,
     "metadata": {},
     "output_type": "execute_result"
    }
   ],
   "source": [
    "len(phoneme_onset)+len(phoneme_vowel)"
   ]
  },
  {
   "cell_type": "code",
   "execution_count": null,
   "metadata": {},
   "outputs": [],
   "source": []
  },
  {
   "cell_type": "code",
   "execution_count": null,
   "metadata": {},
   "outputs": [],
   "source": []
  }
 ],
 "metadata": {
  "kernelspec": {
   "display_name": "Python 3",
   "language": "python",
   "name": "python3"
  },
  "language_info": {
   "codemirror_mode": {
    "name": "ipython",
    "version": 3
   },
   "file_extension": ".py",
   "mimetype": "text/x-python",
   "name": "python",
   "nbconvert_exporter": "python",
   "pygments_lexer": "ipython3",
   "version": "3.7.3"
  }
 },
 "nbformat": 4,
 "nbformat_minor": 2
}
